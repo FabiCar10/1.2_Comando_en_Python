{
  "nbformat": 4,
  "nbformat_minor": 0,
  "metadata": {
    "colab": {
      "provenance": [],
      "authorship_tag": "ABX9TyN800lc5rlr0exQZU72PDRB",
      "include_colab_link": true
    },
    "kernelspec": {
      "name": "python3",
      "display_name": "Python 3"
    },
    "language_info": {
      "name": "python"
    }
  },
  "cells": [
    {
      "cell_type": "markdown",
      "metadata": {
        "id": "view-in-github",
        "colab_type": "text"
      },
      "source": [
        "<a href=\"https://colab.research.google.com/github/FabiCar10/1.2_Comando_en_Python/blob/main/1_2_introduccion_Python.ipynb\" target=\"_parent\"><img src=\"https://colab.research.google.com/assets/colab-badge.svg\" alt=\"Open In Colab\"/></a>"
      ]
    },
    {
      "cell_type": "markdown",
      "source": [
        "# **1.1 Introducción a Python **\n",
        "**Alumna:** Karina Carmona          \n",
        "**Crrera y semestre:** LDC-07    \n",
        "**Fecha:** 15/09/23\n"
      ],
      "metadata": {
        "id": "CtpZrEJTSAWa"
      }
    },
    {
      "cell_type": "code",
      "source": [
        "# ambito1.py\n",
        "# Local versus global\n",
        "def local():       #Se define la función llamada local\n",
        "    m = 7\n",
        "    print(m)\n",
        "\n",
        "m = 5        # Se determina \"m\" dentro del alcance global\n",
        "\n",
        "local()        # Se llama y se ejecuta la funcion local\n",
        "print(m)"
      ],
      "metadata": {
        "colab": {
          "base_uri": "https://localhost:8080/"
        },
        "id": "8uHR1wGtMMu_",
        "outputId": "f7f18d87-e2b6-4ea3-985a-9862e08933e1"
      },
      "execution_count": 1,
      "outputs": [
        {
          "output_type": "stream",
          "name": "stdout",
          "text": [
            "7\n",
            "5\n"
          ]
        }
      ]
    },
    {
      "cell_type": "code",
      "source": [
        "\n",
        "pi = 3.1415926536 # Muestra los dígitos de PI\n",
        "radius = 4.5   #Residuales\n",
        "area = pi * (radius ** 2)  #Se optiene el area con el PI y los reciduales\n",
        "area  #Se imprime el resultado del area"
      ],
      "metadata": {
        "colab": {
          "base_uri": "https://localhost:8080/"
        },
        "id": "5bxQzczBNubP",
        "outputId": "fe5cb6b7-1bd8-4196-cea9-8a42f9bdc35e"
      },
      "execution_count": 14,
      "outputs": [
        {
          "output_type": "execute_result",
          "data": {
            "text/plain": [
              "63.617251235400005"
            ]
          },
          "metadata": {},
          "execution_count": 14
        }
      ]
    },
    {
      "cell_type": "code",
      "source": [
        "# multiple.sequences.py\n",
        "people = ['Nick', 'Rick', 'Roger', 'Syd']   #Nombre de las peronas\n",
        "ages = [23, 24, 23, 21]               #Edades de las peronas\n",
        "for position in range(len(people)):\n",
        "  person = people[position]\n",
        "  age = ages[position]\n",
        "  print(person, age)"
      ],
      "metadata": {
        "colab": {
          "base_uri": "https://localhost:8080/"
        },
        "id": "LHdznzy6PXdm",
        "outputId": "a80948cb-bbce-4277-dba7-dcb62d992c2f"
      },
      "execution_count": 51,
      "outputs": [
        {
          "output_type": "stream",
          "name": "stdout",
          "text": [
            "Nick 23\n",
            "Rick 24\n",
            "Roger 23\n",
            "Syd 21\n"
          ]
        }
      ]
    },
    {
      "cell_type": "code",
      "source": [
        "#Tipos de conjuntos\n",
        "small_primes = set() # Conjunto vacio\n",
        "small_primes.add(2) # Se agrego un elemento a la vez\n",
        "small_primes.add(3)\n",
        "small_primes.add(5)\n",
        "small_primes"
      ],
      "metadata": {
        "colab": {
          "base_uri": "https://localhost:8080/"
        },
        "id": "lJ-zGDFhQ-Nx",
        "outputId": "3402b630-ec40-461c-ed89-876ec1a9ba30"
      },
      "execution_count": 2,
      "outputs": [
        {
          "output_type": "execute_result",
          "data": {
            "text/plain": [
              "{2, 3, 5}"
            ]
          },
          "metadata": {},
          "execution_count": 2
        }
      ]
    },
    {
      "cell_type": "code",
      "source": [
        "a = dict(A=1, Z=-1) #Diccionario\n",
        "b = {'A': 1, 'Z': -1}\n",
        "c = dict(zip(['A', 'Z'], [1, -1]))\n",
        "d = dict([('A', 1), ('Z', -1)])\n",
        "e = dict({'Z': -1, 'A': 1})\n",
        "a == b == c == d == e"
      ],
      "metadata": {
        "colab": {
          "base_uri": "https://localhost:8080/"
        },
        "id": "cBz-QdmeSadc",
        "outputId": "7638bbe6-d15c-4855-a64c-ae551982e51b"
      },
      "execution_count": 35,
      "outputs": [
        {
          "output_type": "execute_result",
          "data": {
            "text/plain": [
              "True"
            ]
          },
          "metadata": {},
          "execution_count": 35
        }
      ]
    },
    {
      "cell_type": "code",
      "source": [
        "#namedtuple parte 1\n",
        "vision = (9.5, 8.8) #Valores de ojo izquiero y derecho\n",
        "vision"
      ],
      "metadata": {
        "colab": {
          "base_uri": "https://localhost:8080/"
        },
        "id": "tdAz9FIQSqUp",
        "outputId": "74f65077-fea9-48de-aefb-b86d92e9e001"
      },
      "execution_count": 38,
      "outputs": [
        {
          "output_type": "execute_result",
          "data": {
            "text/plain": [
              "(9.5, 8.8)"
            ]
          },
          "metadata": {},
          "execution_count": 38
        }
      ]
    },
    {
      "cell_type": "code",
      "source": [
        "#2\n",
        "vision[0] #Ojo izquierdo(Referencia posicion implisicta)"
      ],
      "metadata": {
        "colab": {
          "base_uri": "https://localhost:8080/"
        },
        "id": "yYMAPpjjT5t-",
        "outputId": "f223e879-4ee6-49d4-d669-5e0b1a69dc6b"
      },
      "execution_count": 39,
      "outputs": [
        {
          "output_type": "execute_result",
          "data": {
            "text/plain": [
              "9.5"
            ]
          },
          "metadata": {},
          "execution_count": 39
        }
      ]
    },
    {
      "cell_type": "code",
      "source": [
        "#3\n",
        "vision[1] #Ojo derecho(Referencia posicion implisicta)"
      ],
      "metadata": {
        "colab": {
          "base_uri": "https://localhost:8080/"
        },
        "id": "zQ7BFdgoT8Ii",
        "outputId": "720c09b1-0080-4aea-bc09-13f710944d5c"
      },
      "execution_count": 40,
      "outputs": [
        {
          "output_type": "execute_result",
          "data": {
            "text/plain": [
              "8.8"
            ]
          },
          "metadata": {},
          "execution_count": 40
        }
      ]
    },
    {
      "cell_type": "code",
      "source": [
        "from collections import namedtuple\n",
        "Vision = namedtuple('Vision', ['left', 'right'])\n",
        "vision = Vision(9.5, 8.8)\n",
        "vision[0]\n",
        "vision.left # Igual que vision[0], pero explícito\n",
        "vision.right # Igual que vision[1], pero explícito\n"
      ],
      "metadata": {
        "colab": {
          "base_uri": "https://localhost:8080/"
        },
        "id": "TAZfRE7gDdEd",
        "outputId": "345ab332-9b63-4c8c-ac29-210fba3005a9"
      },
      "execution_count": 3,
      "outputs": [
        {
          "output_type": "execute_result",
          "data": {
            "text/plain": [
              "8.8"
            ]
          },
          "metadata": {},
          "execution_count": 3
        }
      ]
    },
    {
      "cell_type": "code",
      "source": [
        "#1 Dictamen predeterminado\n",
        "d = {}\n",
        "d['age'] = d.get('age', 0) + 1 # la edad no está ahí, obtenemos 0 + 1\n",
        "d"
      ],
      "metadata": {
        "colab": {
          "base_uri": "https://localhost:8080/"
        },
        "id": "p7d8gHD1US22",
        "outputId": "551428ab-bcc2-4195-ea46-688d72805f1c"
      },
      "execution_count": 43,
      "outputs": [
        {
          "output_type": "execute_result",
          "data": {
            "text/plain": [
              "{'age': 1}"
            ]
          },
          "metadata": {},
          "execution_count": 43
        }
      ]
    },
    {
      "cell_type": "code",
      "source": [
        "#2\n",
        "d = {'age': 39}\n",
        "d['age'] = d.get('age', 0) + 1 # la edad está ahí, tenemos 40\n",
        "d"
      ],
      "metadata": {
        "colab": {
          "base_uri": "https://localhost:8080/"
        },
        "id": "GELO82kTWbHe",
        "outputId": "afd5eecb-7f36-4386-dea9-bd5298a13b65"
      },
      "execution_count": 6,
      "outputs": [
        {
          "output_type": "execute_result",
          "data": {
            "text/plain": [
              "{'age': 40}"
            ]
          },
          "metadata": {},
          "execution_count": 6
        }
      ]
    },
    {
      "cell_type": "code",
      "source": [
        "from collections import defaultdict\n",
        "dd = defaultdict(int) # int es el tipo predeterminado (0 el valor)\n",
        "dd['age'] += 1 # abreviatura de dd['edad'] = dd['edad'] + 1\n",
        "dd\n"
      ],
      "metadata": {
        "colab": {
          "base_uri": "https://localhost:8080/"
        },
        "id": "vqYVPPqILB89",
        "outputId": "1d806fa6-b022-499d-d6b8-a83dde5458f9"
      },
      "execution_count": 7,
      "outputs": [
        {
          "output_type": "execute_result",
          "data": {
            "text/plain": [
              "defaultdict(int, {'age': 1})"
            ]
          },
          "metadata": {},
          "execution_count": 7
        }
      ]
    },
    {
      "cell_type": "code",
      "source": [
        "#Small value caching\n",
        "a = 1000000\n",
        "b = 1000000\n",
        "id(a) == id(b)"
      ],
      "metadata": {
        "colab": {
          "base_uri": "https://localhost:8080/"
        },
        "id": "Nw9-FSUkWrjC",
        "outputId": "bfbae4db-a620-4190-fed6-1557cc334b72"
      },
      "execution_count": 48,
      "outputs": [
        {
          "output_type": "execute_result",
          "data": {
            "text/plain": [
              "False"
            ]
          },
          "metadata": {},
          "execution_count": 48
        }
      ]
    },
    {
      "cell_type": "code",
      "source": [
        "#Programaciòn condicional\n",
        "# conditional.1.py\n",
        "late = True\n",
        "if late:\n",
        "  print('I need to call my manager!')"
      ],
      "metadata": {
        "colab": {
          "base_uri": "https://localhost:8080/"
        },
        "id": "jO5TXl95Xuua",
        "outputId": "66ba6dfb-693e-4b87-c0a5-a0a28654c02d"
      },
      "execution_count": 49,
      "outputs": [
        {
          "output_type": "stream",
          "name": "stdout",
          "text": [
            "I need to call my manager!\n"
          ]
        }
      ]
    },
    {
      "cell_type": "code",
      "source": [
        "#Iterando sobre una secuencia\n",
        "# simple.for.2.py\n",
        "surnames = ['Rivest', 'Shamir', 'Adleman']  #apellidos\n",
        "\n",
        "for position in range(len(surnames)):  #Ejecuta las tres iteraciones ya que len(surname)\n",
        "                                        # es la longitud de la lista de apellidos\n",
        "  print(position, surnames[position])  #Imprime las tres iteraciones\n"
      ],
      "metadata": {
        "colab": {
          "base_uri": "https://localhost:8080/"
        },
        "id": "nrr41u-vYJXS",
        "outputId": "77ee0280-3cd0-4ddd-e520-a23b9687e489"
      },
      "execution_count": 50,
      "outputs": [
        {
          "output_type": "stream",
          "name": "stdout",
          "text": [
            "0 Rivest\n",
            "1 Shamir\n",
            "2 Adleman\n"
          ]
        }
      ]
    }
  ]
}